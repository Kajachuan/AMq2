{
 "cells": [
  {
   "cell_type": "markdown",
   "metadata": {},
   "source": [
    "### Notebook para probar la comunicación al modelo con FastApi"
   ]
  },
  {
   "cell_type": "code",
   "execution_count": 1,
   "metadata": {},
   "outputs": [],
   "source": [
    "import requests\n",
    "from IPython.display import display"
   ]
  },
  {
   "cell_type": "code",
   "execution_count": 2,
   "metadata": {},
   "outputs": [
    {
     "name": "stdout",
     "output_type": "stream",
     "text": [
      "Codigo devuelto: <Response [200]>, OK\n",
      "Mensaje: {\"message\":\"Welcome to the Rain in Australia predictor API\"}\n"
     ]
    }
   ],
   "source": [
    "response = requests.get(\"http://localhost:8800\")\n",
    "print(f'Codigo devuelto: {response}, {response.reason}')\n",
    "print(f'Mensaje: {response.text}')\n"
   ]
  },
  {
   "cell_type": "code",
   "execution_count": 3,
   "metadata": {},
   "outputs": [
    {
     "data": {
      "text/plain": [
       "'GET'"
      ]
     },
     "execution_count": 3,
     "metadata": {},
     "output_type": "execute_result"
    }
   ],
   "source": [
    "response.request.method"
   ]
  },
  {
   "cell_type": "markdown",
   "metadata": {},
   "source": [
    "#### Datos de ejemplo para predicción de lluvia"
   ]
  },
  {
   "cell_type": "code",
   "execution_count": 4,
   "metadata": {},
   "outputs": [
    {
     "name": "stdout",
     "output_type": "stream",
     "text": [
      "Código devuelto: 200, OK\n",
      "Respuesta completa: {'int_output': True, 'str_output': 'It will rain tomorrow'}\n"
     ]
    }
   ],
   "source": [
    "endpoint = \"http://localhost:8800/predict\"\n",
    "\n",
    "data = {\n",
    "    \"features\": {\n",
    "       \"Date\": \"2024-01-01\",\n",
    "        \"Location\": \"Albury\",\n",
    "        \"MinTemp\": 13.6,\n",
    "        \"MaxTemp\": 28.3,\n",
    "        \"Rainfall\": 2.6,\n",
    "        \"Evaporation\": 3.5,\n",
    "        \"Sunshine\": 5.2,\n",
    "        \"WindGustDir\": \"WNW\",\n",
    "        \"WindGustSpeed\": 44.3,\n",
    "        \"WindDir9am\": \"WNW\",\n",
    "        \"WindDir3pm\": \"W\",\n",
    "        \"WindSpeed9am\": 41.9,\n",
    "        \"WindSpeed3pm\": 43.5,\n",
    "        \"Humidity9am\": 68.6,\n",
    "        \"Humidity3pm\": 81.3,\n",
    "        \"Pressure9am\": 1008,\n",
    "        \"Pressure3pm\": 1007.6,\n",
    "        \"Cloud9am\": 6,\n",
    "        \"Cloud3pm\": 8,\n",
    "        \"Temp9am\": 16.7,\n",
    "        \"Temp3pm\": 25.6,\n",
    "        \"RainToday\": False\n",
    "    }\n",
    "}\n",
    "\n",
    "response = requests.post(endpoint, json=data)\n",
    "\n",
    "\n",
    "print(f'Código devuelto: {response.status_code}, {response.reason}')\n",
    "print(f'Respuesta completa: {response.json()}')"
   ]
  },
  {
   "cell_type": "markdown",
   "metadata": {},
   "source": [
    "#### Datos de ejemplo para predicción de NO lluvia"
   ]
  },
  {
   "cell_type": "code",
   "execution_count": 5,
   "metadata": {},
   "outputs": [
    {
     "name": "stdout",
     "output_type": "stream",
     "text": [
      "Código devuelto: 200, OK\n",
      "Respuesta completa: {'int_output': False, 'str_output': \"It won't rain tomorrow\"}\n"
     ]
    }
   ],
   "source": [
    "endpoint = \"http://localhost:8800/predict\"\n",
    "\n",
    "data = {\n",
    "    \"features\": {\n",
    "       \"Date\": \"2024-01-01\",\n",
    "        \"Location\": \"Albury\",\n",
    "        \"MinTemp\": 13.6,\n",
    "        \"MaxTemp\": 14.0,\n",
    "        \"Rainfall\": 0,\n",
    "        \"Evaporation\": 0,\n",
    "        \"Sunshine\": 5.2,\n",
    "        \"WindGustDir\": \"WNW\",\n",
    "        \"WindGustSpeed\": 44.3,\n",
    "        \"WindDir9am\": \"WNW\",\n",
    "        \"WindDir3pm\": \"W\",\n",
    "        \"WindSpeed9am\": 41.9,\n",
    "        \"WindSpeed3pm\": 43.5,\n",
    "        \"Humidity9am\": 30,\n",
    "        \"Humidity3pm\": 30,\n",
    "        \"Pressure9am\": 1008,\n",
    "        \"Pressure3pm\": 1007.6,\n",
    "        \"Cloud9am\": 6,\n",
    "        \"Cloud3pm\": 8,\n",
    "        \"Temp9am\": 16.7,\n",
    "        \"Temp3pm\": 25.6,\n",
    "        \"RainToday\": False\n",
    "    }\n",
    "}\n",
    "\n",
    "response = requests.post(endpoint, json=data)\n",
    "\n",
    "\n",
    "print(f'Código devuelto: {response.status_code}, {response.reason}')\n",
    "print(f'Respuesta completa: {response.json()}')"
   ]
  }
 ],
 "metadata": {
  "kernelspec": {
   "display_name": "Python 3",
   "language": "python",
   "name": "python3"
  },
  "language_info": {
   "codemirror_mode": {
    "name": "ipython",
    "version": 3
   },
   "file_extension": ".py",
   "mimetype": "text/x-python",
   "name": "python",
   "nbconvert_exporter": "python",
   "pygments_lexer": "ipython3",
   "version": "3.12.6"
  }
 },
 "nbformat": 4,
 "nbformat_minor": 2
}
